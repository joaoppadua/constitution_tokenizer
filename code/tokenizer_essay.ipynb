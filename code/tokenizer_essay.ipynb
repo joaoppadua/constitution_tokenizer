{
 "cells": [
  {
   "cell_type": "code",
   "execution_count": 2,
   "metadata": {},
   "outputs": [],
   "source": [
    "#Imports\n",
    "import regex as re\n"
   ]
  },
  {
   "cell_type": "code",
   "execution_count": null,
   "metadata": {},
   "outputs": [],
   "source": [
    "#GPT-4 style BPE tokenizer\n",
    "class BasicTokenizer:\n",
    "\n",
    "    def __init__(self):\n",
    "        self.vocab = None\n",
    "        self.merge_table = None\n",
    "        \n",
    "            \n",
    "    def train(self, text, vocab_size, verbose=False):\n",
    "        ''' Train the tokenizer on the given text. '''\n",
    "        pass\n",
    "\n",
    "    def encode(self, text):\n",
    "        pass\n",
    "\n",
    "    def decode(self, ids):\n",
    "        pass"
   ]
  }
 ],
 "metadata": {
  "kernelspec": {
   "display_name": "tokenizer",
   "language": "python",
   "name": "python3"
  },
  "language_info": {
   "codemirror_mode": {
    "name": "ipython",
    "version": 3
   },
   "file_extension": ".py",
   "mimetype": "text/x-python",
   "name": "python",
   "nbconvert_exporter": "python",
   "pygments_lexer": "ipython3",
   "version": "3.11.9"
  }
 },
 "nbformat": 4,
 "nbformat_minor": 2
}
